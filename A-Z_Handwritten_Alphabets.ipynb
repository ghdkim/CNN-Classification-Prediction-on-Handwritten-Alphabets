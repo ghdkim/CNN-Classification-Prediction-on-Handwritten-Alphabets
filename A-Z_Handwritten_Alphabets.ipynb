{
 "cells": [
  {
   "cell_type": "markdown",
   "id": "b66db4157756b5c0",
   "metadata": {},
   "source": [
    "# Introduction\n",
    "\n",
    "The dataset contains 26 folders (A-Z) containing handwritten images in size 2828 pixels, each alphabet in the image is centre fitted to 2020 pixel box. Each image is stored as Gray-level\n",
    "\n",
    "I will be creating a handwritten character recognition system that can recognize different handwritten characters or alphabets. "
   ]
  },
  {
   "cell_type": "markdown",
   "id": "6beeeb59e1178e2d",
   "metadata": {},
   "source": [
    "# Importing Libraries"
   ]
  },
  {
   "cell_type": "code",
   "execution_count": 27,
   "id": "initial_id",
   "metadata": {
    "ExecuteTime": {
     "end_time": "2024-02-28T05:06:11.063396Z",
     "start_time": "2024-02-28T05:06:11.060788Z"
    },
    "collapsed": true
   },
   "outputs": [],
   "source": [
    "import numpy as np\n",
    "import pandas as pd\n",
    "import matplotlib.pyplot as plt\n",
    "import cv2\n",
    "\n",
    "from sklearn.model_selection import train_test_split\n",
    "from sklearn.utils import shuffle\n",
    "from keras.models import Sequential\n",
    "from keras.layers import Dense, Flatten, Conv2D, MaxPool2D, Dropout\n",
    "from tensorflow import keras\n",
    "\n",
    "#from keras.optimizers import SGD, Adam\n",
    "import tensorflow as tf\n",
    "from tensorflow.keras.optimizers import SGD\n",
    "from keras import optimizers\n",
    "from keras.callbacks import ReduceLROnPlateau, EarlyStopping\n",
    "from keras.utils import to_categorical"
   ]
  },
  {
   "cell_type": "markdown",
   "id": "f28cb444c2e235d1",
   "metadata": {},
   "source": [
    "# Explore the dataset"
   ]
  },
  {
   "cell_type": "code",
   "execution_count": 5,
   "id": "57b250bff2f5ee34",
   "metadata": {
    "ExecuteTime": {
     "end_time": "2024-02-28T03:37:56.421657Z",
     "start_time": "2024-02-28T03:37:48.893111Z"
    }
   },
   "outputs": [],
   "source": [
    "data = pd.read_csv('/Users/derek/Desktop/PyCharm./Unit_4_X_DL/data/A_Z Handwritten Data.csv')"
   ]
  },
  {
   "cell_type": "code",
   "execution_count": 6,
   "id": "3bf3bbedbcf5c693",
   "metadata": {
    "ExecuteTime": {
     "end_time": "2024-02-28T03:37:56.431920Z",
     "start_time": "2024-02-28T03:37:56.422818Z"
    }
   },
   "outputs": [
    {
     "data": {
      "text/html": [
       "<div>\n",
       "<style scoped>\n",
       "    .dataframe tbody tr th:only-of-type {\n",
       "        vertical-align: middle;\n",
       "    }\n",
       "\n",
       "    .dataframe tbody tr th {\n",
       "        vertical-align: top;\n",
       "    }\n",
       "\n",
       "    .dataframe thead th {\n",
       "        text-align: right;\n",
       "    }\n",
       "</style>\n",
       "<table border=\"1\" class=\"dataframe\">\n",
       "  <thead>\n",
       "    <tr style=\"text-align: right;\">\n",
       "      <th></th>\n",
       "      <th>0</th>\n",
       "      <th>0.1</th>\n",
       "      <th>0.2</th>\n",
       "      <th>0.3</th>\n",
       "      <th>0.4</th>\n",
       "      <th>0.5</th>\n",
       "      <th>0.6</th>\n",
       "      <th>0.7</th>\n",
       "      <th>0.8</th>\n",
       "      <th>0.9</th>\n",
       "      <th>...</th>\n",
       "      <th>0.639</th>\n",
       "      <th>0.640</th>\n",
       "      <th>0.641</th>\n",
       "      <th>0.642</th>\n",
       "      <th>0.643</th>\n",
       "      <th>0.644</th>\n",
       "      <th>0.645</th>\n",
       "      <th>0.646</th>\n",
       "      <th>0.647</th>\n",
       "      <th>0.648</th>\n",
       "    </tr>\n",
       "  </thead>\n",
       "  <tbody>\n",
       "    <tr>\n",
       "      <th>0</th>\n",
       "      <td>0</td>\n",
       "      <td>0</td>\n",
       "      <td>0</td>\n",
       "      <td>0</td>\n",
       "      <td>0</td>\n",
       "      <td>0</td>\n",
       "      <td>0</td>\n",
       "      <td>0</td>\n",
       "      <td>0</td>\n",
       "      <td>0</td>\n",
       "      <td>...</td>\n",
       "      <td>0</td>\n",
       "      <td>0</td>\n",
       "      <td>0</td>\n",
       "      <td>0</td>\n",
       "      <td>0</td>\n",
       "      <td>0</td>\n",
       "      <td>0</td>\n",
       "      <td>0</td>\n",
       "      <td>0</td>\n",
       "      <td>0</td>\n",
       "    </tr>\n",
       "    <tr>\n",
       "      <th>1</th>\n",
       "      <td>0</td>\n",
       "      <td>0</td>\n",
       "      <td>0</td>\n",
       "      <td>0</td>\n",
       "      <td>0</td>\n",
       "      <td>0</td>\n",
       "      <td>0</td>\n",
       "      <td>0</td>\n",
       "      <td>0</td>\n",
       "      <td>0</td>\n",
       "      <td>...</td>\n",
       "      <td>0</td>\n",
       "      <td>0</td>\n",
       "      <td>0</td>\n",
       "      <td>0</td>\n",
       "      <td>0</td>\n",
       "      <td>0</td>\n",
       "      <td>0</td>\n",
       "      <td>0</td>\n",
       "      <td>0</td>\n",
       "      <td>0</td>\n",
       "    </tr>\n",
       "    <tr>\n",
       "      <th>2</th>\n",
       "      <td>0</td>\n",
       "      <td>0</td>\n",
       "      <td>0</td>\n",
       "      <td>0</td>\n",
       "      <td>0</td>\n",
       "      <td>0</td>\n",
       "      <td>0</td>\n",
       "      <td>0</td>\n",
       "      <td>0</td>\n",
       "      <td>0</td>\n",
       "      <td>...</td>\n",
       "      <td>0</td>\n",
       "      <td>0</td>\n",
       "      <td>0</td>\n",
       "      <td>0</td>\n",
       "      <td>0</td>\n",
       "      <td>0</td>\n",
       "      <td>0</td>\n",
       "      <td>0</td>\n",
       "      <td>0</td>\n",
       "      <td>0</td>\n",
       "    </tr>\n",
       "    <tr>\n",
       "      <th>3</th>\n",
       "      <td>0</td>\n",
       "      <td>0</td>\n",
       "      <td>0</td>\n",
       "      <td>0</td>\n",
       "      <td>0</td>\n",
       "      <td>0</td>\n",
       "      <td>0</td>\n",
       "      <td>0</td>\n",
       "      <td>0</td>\n",
       "      <td>0</td>\n",
       "      <td>...</td>\n",
       "      <td>0</td>\n",
       "      <td>0</td>\n",
       "      <td>0</td>\n",
       "      <td>0</td>\n",
       "      <td>0</td>\n",
       "      <td>0</td>\n",
       "      <td>0</td>\n",
       "      <td>0</td>\n",
       "      <td>0</td>\n",
       "      <td>0</td>\n",
       "    </tr>\n",
       "    <tr>\n",
       "      <th>4</th>\n",
       "      <td>0</td>\n",
       "      <td>0</td>\n",
       "      <td>0</td>\n",
       "      <td>0</td>\n",
       "      <td>0</td>\n",
       "      <td>0</td>\n",
       "      <td>0</td>\n",
       "      <td>0</td>\n",
       "      <td>0</td>\n",
       "      <td>0</td>\n",
       "      <td>...</td>\n",
       "      <td>0</td>\n",
       "      <td>0</td>\n",
       "      <td>0</td>\n",
       "      <td>0</td>\n",
       "      <td>0</td>\n",
       "      <td>0</td>\n",
       "      <td>0</td>\n",
       "      <td>0</td>\n",
       "      <td>0</td>\n",
       "      <td>0</td>\n",
       "    </tr>\n",
       "  </tbody>\n",
       "</table>\n",
       "<p>5 rows × 785 columns</p>\n",
       "</div>"
      ],
      "text/plain": [
       "   0  0.1  0.2  0.3  0.4  0.5  0.6  0.7  0.8  0.9  ...  0.639  0.640  0.641  \\\n",
       "0  0    0    0    0    0    0    0    0    0    0  ...      0      0      0   \n",
       "1  0    0    0    0    0    0    0    0    0    0  ...      0      0      0   \n",
       "2  0    0    0    0    0    0    0    0    0    0  ...      0      0      0   \n",
       "3  0    0    0    0    0    0    0    0    0    0  ...      0      0      0   \n",
       "4  0    0    0    0    0    0    0    0    0    0  ...      0      0      0   \n",
       "\n",
       "   0.642  0.643  0.644  0.645  0.646  0.647  0.648  \n",
       "0      0      0      0      0      0      0      0  \n",
       "1      0      0      0      0      0      0      0  \n",
       "2      0      0      0      0      0      0      0  \n",
       "3      0      0      0      0      0      0      0  \n",
       "4      0      0      0      0      0      0      0  \n",
       "\n",
       "[5 rows x 785 columns]"
      ]
     },
     "execution_count": 6,
     "metadata": {},
     "output_type": "execute_result"
    }
   ],
   "source": [
    "data.head()"
   ]
  },
  {
   "cell_type": "code",
   "execution_count": 7,
   "id": "af3cc810f2e66ce6",
   "metadata": {
    "ExecuteTime": {
     "end_time": "2024-02-28T03:37:56.445472Z",
     "start_time": "2024-02-28T03:37:56.432444Z"
    }
   },
   "outputs": [
    {
     "name": "stdout",
     "output_type": "stream",
     "text": [
      "<class 'pandas.core.frame.DataFrame'>\n",
      "RangeIndex: 372450 entries, 0 to 372449\n",
      "Columns: 785 entries, 0 to 0.648\n",
      "dtypes: int64(785)\n",
      "memory usage: 2.2 GB\n"
     ]
    }
   ],
   "source": [
    "data.info()"
   ]
  },
  {
   "cell_type": "code",
   "execution_count": 8,
   "id": "440ca71dd17c5261",
   "metadata": {
    "ExecuteTime": {
     "end_time": "2024-02-28T03:38:01.416446Z",
     "start_time": "2024-02-28T03:37:56.446844Z"
    }
   },
   "outputs": [
    {
     "data": {
      "text/html": [
       "<div>\n",
       "<style scoped>\n",
       "    .dataframe tbody tr th:only-of-type {\n",
       "        vertical-align: middle;\n",
       "    }\n",
       "\n",
       "    .dataframe tbody tr th {\n",
       "        vertical-align: top;\n",
       "    }\n",
       "\n",
       "    .dataframe thead th {\n",
       "        text-align: right;\n",
       "    }\n",
       "</style>\n",
       "<table border=\"1\" class=\"dataframe\">\n",
       "  <thead>\n",
       "    <tr style=\"text-align: right;\">\n",
       "      <th></th>\n",
       "      <th>0</th>\n",
       "      <th>0.1</th>\n",
       "      <th>0.2</th>\n",
       "      <th>0.3</th>\n",
       "      <th>0.4</th>\n",
       "      <th>0.5</th>\n",
       "      <th>0.6</th>\n",
       "      <th>0.7</th>\n",
       "      <th>0.8</th>\n",
       "      <th>0.9</th>\n",
       "      <th>...</th>\n",
       "      <th>0.639</th>\n",
       "      <th>0.640</th>\n",
       "      <th>0.641</th>\n",
       "      <th>0.642</th>\n",
       "      <th>0.643</th>\n",
       "      <th>0.644</th>\n",
       "      <th>0.645</th>\n",
       "      <th>0.646</th>\n",
       "      <th>0.647</th>\n",
       "      <th>0.648</th>\n",
       "    </tr>\n",
       "  </thead>\n",
       "  <tbody>\n",
       "    <tr>\n",
       "      <th>count</th>\n",
       "      <td>372450.000000</td>\n",
       "      <td>372450.0</td>\n",
       "      <td>372450.0</td>\n",
       "      <td>372450.0</td>\n",
       "      <td>372450.0</td>\n",
       "      <td>372450.0</td>\n",
       "      <td>372450.0</td>\n",
       "      <td>372450.0</td>\n",
       "      <td>372450.0</td>\n",
       "      <td>372450.0</td>\n",
       "      <td>...</td>\n",
       "      <td>372450.000000</td>\n",
       "      <td>372450.000000</td>\n",
       "      <td>372450.000000</td>\n",
       "      <td>372450.000000</td>\n",
       "      <td>372450.000000</td>\n",
       "      <td>372450.000000</td>\n",
       "      <td>372450.000000</td>\n",
       "      <td>372450.000000</td>\n",
       "      <td>372450.000000</td>\n",
       "      <td>372450.000000</td>\n",
       "    </tr>\n",
       "    <tr>\n",
       "      <th>mean</th>\n",
       "      <td>13.523490</td>\n",
       "      <td>0.0</td>\n",
       "      <td>0.0</td>\n",
       "      <td>0.0</td>\n",
       "      <td>0.0</td>\n",
       "      <td>0.0</td>\n",
       "      <td>0.0</td>\n",
       "      <td>0.0</td>\n",
       "      <td>0.0</td>\n",
       "      <td>0.0</td>\n",
       "      <td>...</td>\n",
       "      <td>0.001616</td>\n",
       "      <td>0.001592</td>\n",
       "      <td>0.001117</td>\n",
       "      <td>0.000929</td>\n",
       "      <td>0.000685</td>\n",
       "      <td>0.000596</td>\n",
       "      <td>0.000618</td>\n",
       "      <td>0.000690</td>\n",
       "      <td>0.000239</td>\n",
       "      <td>0.000011</td>\n",
       "    </tr>\n",
       "    <tr>\n",
       "      <th>std</th>\n",
       "      <td>6.740824</td>\n",
       "      <td>0.0</td>\n",
       "      <td>0.0</td>\n",
       "      <td>0.0</td>\n",
       "      <td>0.0</td>\n",
       "      <td>0.0</td>\n",
       "      <td>0.0</td>\n",
       "      <td>0.0</td>\n",
       "      <td>0.0</td>\n",
       "      <td>0.0</td>\n",
       "      <td>...</td>\n",
       "      <td>0.490788</td>\n",
       "      <td>0.517297</td>\n",
       "      <td>0.421332</td>\n",
       "      <td>0.419180</td>\n",
       "      <td>0.385566</td>\n",
       "      <td>0.319820</td>\n",
       "      <td>0.208942</td>\n",
       "      <td>0.335227</td>\n",
       "      <td>0.134852</td>\n",
       "      <td>0.006554</td>\n",
       "    </tr>\n",
       "    <tr>\n",
       "      <th>min</th>\n",
       "      <td>0.000000</td>\n",
       "      <td>0.0</td>\n",
       "      <td>0.0</td>\n",
       "      <td>0.0</td>\n",
       "      <td>0.0</td>\n",
       "      <td>0.0</td>\n",
       "      <td>0.0</td>\n",
       "      <td>0.0</td>\n",
       "      <td>0.0</td>\n",
       "      <td>0.0</td>\n",
       "      <td>...</td>\n",
       "      <td>0.000000</td>\n",
       "      <td>0.000000</td>\n",
       "      <td>0.000000</td>\n",
       "      <td>0.000000</td>\n",
       "      <td>0.000000</td>\n",
       "      <td>0.000000</td>\n",
       "      <td>0.000000</td>\n",
       "      <td>0.000000</td>\n",
       "      <td>0.000000</td>\n",
       "      <td>0.000000</td>\n",
       "    </tr>\n",
       "    <tr>\n",
       "      <th>25%</th>\n",
       "      <td>10.000000</td>\n",
       "      <td>0.0</td>\n",
       "      <td>0.0</td>\n",
       "      <td>0.0</td>\n",
       "      <td>0.0</td>\n",
       "      <td>0.0</td>\n",
       "      <td>0.0</td>\n",
       "      <td>0.0</td>\n",
       "      <td>0.0</td>\n",
       "      <td>0.0</td>\n",
       "      <td>...</td>\n",
       "      <td>0.000000</td>\n",
       "      <td>0.000000</td>\n",
       "      <td>0.000000</td>\n",
       "      <td>0.000000</td>\n",
       "      <td>0.000000</td>\n",
       "      <td>0.000000</td>\n",
       "      <td>0.000000</td>\n",
       "      <td>0.000000</td>\n",
       "      <td>0.000000</td>\n",
       "      <td>0.000000</td>\n",
       "    </tr>\n",
       "    <tr>\n",
       "      <th>50%</th>\n",
       "      <td>14.000000</td>\n",
       "      <td>0.0</td>\n",
       "      <td>0.0</td>\n",
       "      <td>0.0</td>\n",
       "      <td>0.0</td>\n",
       "      <td>0.0</td>\n",
       "      <td>0.0</td>\n",
       "      <td>0.0</td>\n",
       "      <td>0.0</td>\n",
       "      <td>0.0</td>\n",
       "      <td>...</td>\n",
       "      <td>0.000000</td>\n",
       "      <td>0.000000</td>\n",
       "      <td>0.000000</td>\n",
       "      <td>0.000000</td>\n",
       "      <td>0.000000</td>\n",
       "      <td>0.000000</td>\n",
       "      <td>0.000000</td>\n",
       "      <td>0.000000</td>\n",
       "      <td>0.000000</td>\n",
       "      <td>0.000000</td>\n",
       "    </tr>\n",
       "    <tr>\n",
       "      <th>75%</th>\n",
       "      <td>18.000000</td>\n",
       "      <td>0.0</td>\n",
       "      <td>0.0</td>\n",
       "      <td>0.0</td>\n",
       "      <td>0.0</td>\n",
       "      <td>0.0</td>\n",
       "      <td>0.0</td>\n",
       "      <td>0.0</td>\n",
       "      <td>0.0</td>\n",
       "      <td>0.0</td>\n",
       "      <td>...</td>\n",
       "      <td>0.000000</td>\n",
       "      <td>0.000000</td>\n",
       "      <td>0.000000</td>\n",
       "      <td>0.000000</td>\n",
       "      <td>0.000000</td>\n",
       "      <td>0.000000</td>\n",
       "      <td>0.000000</td>\n",
       "      <td>0.000000</td>\n",
       "      <td>0.000000</td>\n",
       "      <td>0.000000</td>\n",
       "    </tr>\n",
       "    <tr>\n",
       "      <th>max</th>\n",
       "      <td>25.000000</td>\n",
       "      <td>0.0</td>\n",
       "      <td>0.0</td>\n",
       "      <td>0.0</td>\n",
       "      <td>0.0</td>\n",
       "      <td>0.0</td>\n",
       "      <td>0.0</td>\n",
       "      <td>0.0</td>\n",
       "      <td>0.0</td>\n",
       "      <td>0.0</td>\n",
       "      <td>...</td>\n",
       "      <td>252.000000</td>\n",
       "      <td>226.000000</td>\n",
       "      <td>229.000000</td>\n",
       "      <td>228.000000</td>\n",
       "      <td>235.000000</td>\n",
       "      <td>194.000000</td>\n",
       "      <td>103.000000</td>\n",
       "      <td>198.000000</td>\n",
       "      <td>82.000000</td>\n",
       "      <td>4.000000</td>\n",
       "    </tr>\n",
       "  </tbody>\n",
       "</table>\n",
       "<p>8 rows × 785 columns</p>\n",
       "</div>"
      ],
      "text/plain": [
       "                   0       0.1       0.2       0.3       0.4       0.5  \\\n",
       "count  372450.000000  372450.0  372450.0  372450.0  372450.0  372450.0   \n",
       "mean       13.523490       0.0       0.0       0.0       0.0       0.0   \n",
       "std         6.740824       0.0       0.0       0.0       0.0       0.0   \n",
       "min         0.000000       0.0       0.0       0.0       0.0       0.0   \n",
       "25%        10.000000       0.0       0.0       0.0       0.0       0.0   \n",
       "50%        14.000000       0.0       0.0       0.0       0.0       0.0   \n",
       "75%        18.000000       0.0       0.0       0.0       0.0       0.0   \n",
       "max        25.000000       0.0       0.0       0.0       0.0       0.0   \n",
       "\n",
       "            0.6       0.7       0.8       0.9  ...          0.639  \\\n",
       "count  372450.0  372450.0  372450.0  372450.0  ...  372450.000000   \n",
       "mean        0.0       0.0       0.0       0.0  ...       0.001616   \n",
       "std         0.0       0.0       0.0       0.0  ...       0.490788   \n",
       "min         0.0       0.0       0.0       0.0  ...       0.000000   \n",
       "25%         0.0       0.0       0.0       0.0  ...       0.000000   \n",
       "50%         0.0       0.0       0.0       0.0  ...       0.000000   \n",
       "75%         0.0       0.0       0.0       0.0  ...       0.000000   \n",
       "max         0.0       0.0       0.0       0.0  ...     252.000000   \n",
       "\n",
       "               0.640          0.641          0.642          0.643  \\\n",
       "count  372450.000000  372450.000000  372450.000000  372450.000000   \n",
       "mean        0.001592       0.001117       0.000929       0.000685   \n",
       "std         0.517297       0.421332       0.419180       0.385566   \n",
       "min         0.000000       0.000000       0.000000       0.000000   \n",
       "25%         0.000000       0.000000       0.000000       0.000000   \n",
       "50%         0.000000       0.000000       0.000000       0.000000   \n",
       "75%         0.000000       0.000000       0.000000       0.000000   \n",
       "max       226.000000     229.000000     228.000000     235.000000   \n",
       "\n",
       "               0.644          0.645          0.646          0.647  \\\n",
       "count  372450.000000  372450.000000  372450.000000  372450.000000   \n",
       "mean        0.000596       0.000618       0.000690       0.000239   \n",
       "std         0.319820       0.208942       0.335227       0.134852   \n",
       "min         0.000000       0.000000       0.000000       0.000000   \n",
       "25%         0.000000       0.000000       0.000000       0.000000   \n",
       "50%         0.000000       0.000000       0.000000       0.000000   \n",
       "75%         0.000000       0.000000       0.000000       0.000000   \n",
       "max       194.000000     103.000000     198.000000      82.000000   \n",
       "\n",
       "               0.648  \n",
       "count  372450.000000  \n",
       "mean        0.000011  \n",
       "std         0.006554  \n",
       "min         0.000000  \n",
       "25%         0.000000  \n",
       "50%         0.000000  \n",
       "75%         0.000000  \n",
       "max         4.000000  \n",
       "\n",
       "[8 rows x 785 columns]"
      ]
     },
     "execution_count": 8,
     "metadata": {},
     "output_type": "execute_result"
    }
   ],
   "source": [
    "data.describe()"
   ]
  },
  {
   "cell_type": "code",
   "execution_count": 9,
   "id": "dee2e6ab9ba05386",
   "metadata": {
    "ExecuteTime": {
     "end_time": "2024-02-28T03:38:01.419917Z",
     "start_time": "2024-02-28T03:38:01.417142Z"
    }
   },
   "outputs": [
    {
     "data": {
      "text/plain": [
       "(372450, 785)"
      ]
     },
     "execution_count": 9,
     "metadata": {},
     "output_type": "execute_result"
    }
   ],
   "source": [
    "data.shape"
   ]
  },
  {
   "cell_type": "markdown",
   "id": "97c51fbbef59e291",
   "metadata": {},
   "source": [
    "Creating a Pandas DataFrame"
   ]
  },
  {
   "cell_type": "code",
   "execution_count": 10,
   "id": "2dc085df37f81e61",
   "metadata": {
    "ExecuteTime": {
     "end_time": "2024-02-28T03:38:01.440088Z",
     "start_time": "2024-02-28T03:38:01.420856Z"
    }
   },
   "outputs": [
    {
     "data": {
      "text/html": [
       "<div>\n",
       "<style scoped>\n",
       "    .dataframe tbody tr th:only-of-type {\n",
       "        vertical-align: middle;\n",
       "    }\n",
       "\n",
       "    .dataframe tbody tr th {\n",
       "        vertical-align: top;\n",
       "    }\n",
       "\n",
       "    .dataframe thead th {\n",
       "        text-align: right;\n",
       "    }\n",
       "</style>\n",
       "<table border=\"1\" class=\"dataframe\">\n",
       "  <thead>\n",
       "    <tr style=\"text-align: right;\">\n",
       "      <th></th>\n",
       "      <th>0</th>\n",
       "      <th>0.1</th>\n",
       "      <th>0.2</th>\n",
       "      <th>0.3</th>\n",
       "      <th>0.4</th>\n",
       "      <th>0.5</th>\n",
       "      <th>0.6</th>\n",
       "      <th>0.7</th>\n",
       "      <th>0.8</th>\n",
       "      <th>0.9</th>\n",
       "      <th>...</th>\n",
       "      <th>0.639</th>\n",
       "      <th>0.640</th>\n",
       "      <th>0.641</th>\n",
       "      <th>0.642</th>\n",
       "      <th>0.643</th>\n",
       "      <th>0.644</th>\n",
       "      <th>0.645</th>\n",
       "      <th>0.646</th>\n",
       "      <th>0.647</th>\n",
       "      <th>0.648</th>\n",
       "    </tr>\n",
       "  </thead>\n",
       "  <tbody>\n",
       "    <tr>\n",
       "      <th>0</th>\n",
       "      <td>0</td>\n",
       "      <td>0</td>\n",
       "      <td>0</td>\n",
       "      <td>0</td>\n",
       "      <td>0</td>\n",
       "      <td>0</td>\n",
       "      <td>0</td>\n",
       "      <td>0</td>\n",
       "      <td>0</td>\n",
       "      <td>0</td>\n",
       "      <td>...</td>\n",
       "      <td>0</td>\n",
       "      <td>0</td>\n",
       "      <td>0</td>\n",
       "      <td>0</td>\n",
       "      <td>0</td>\n",
       "      <td>0</td>\n",
       "      <td>0</td>\n",
       "      <td>0</td>\n",
       "      <td>0</td>\n",
       "      <td>0</td>\n",
       "    </tr>\n",
       "    <tr>\n",
       "      <th>1</th>\n",
       "      <td>0</td>\n",
       "      <td>0</td>\n",
       "      <td>0</td>\n",
       "      <td>0</td>\n",
       "      <td>0</td>\n",
       "      <td>0</td>\n",
       "      <td>0</td>\n",
       "      <td>0</td>\n",
       "      <td>0</td>\n",
       "      <td>0</td>\n",
       "      <td>...</td>\n",
       "      <td>0</td>\n",
       "      <td>0</td>\n",
       "      <td>0</td>\n",
       "      <td>0</td>\n",
       "      <td>0</td>\n",
       "      <td>0</td>\n",
       "      <td>0</td>\n",
       "      <td>0</td>\n",
       "      <td>0</td>\n",
       "      <td>0</td>\n",
       "    </tr>\n",
       "    <tr>\n",
       "      <th>2</th>\n",
       "      <td>0</td>\n",
       "      <td>0</td>\n",
       "      <td>0</td>\n",
       "      <td>0</td>\n",
       "      <td>0</td>\n",
       "      <td>0</td>\n",
       "      <td>0</td>\n",
       "      <td>0</td>\n",
       "      <td>0</td>\n",
       "      <td>0</td>\n",
       "      <td>...</td>\n",
       "      <td>0</td>\n",
       "      <td>0</td>\n",
       "      <td>0</td>\n",
       "      <td>0</td>\n",
       "      <td>0</td>\n",
       "      <td>0</td>\n",
       "      <td>0</td>\n",
       "      <td>0</td>\n",
       "      <td>0</td>\n",
       "      <td>0</td>\n",
       "    </tr>\n",
       "    <tr>\n",
       "      <th>3</th>\n",
       "      <td>0</td>\n",
       "      <td>0</td>\n",
       "      <td>0</td>\n",
       "      <td>0</td>\n",
       "      <td>0</td>\n",
       "      <td>0</td>\n",
       "      <td>0</td>\n",
       "      <td>0</td>\n",
       "      <td>0</td>\n",
       "      <td>0</td>\n",
       "      <td>...</td>\n",
       "      <td>0</td>\n",
       "      <td>0</td>\n",
       "      <td>0</td>\n",
       "      <td>0</td>\n",
       "      <td>0</td>\n",
       "      <td>0</td>\n",
       "      <td>0</td>\n",
       "      <td>0</td>\n",
       "      <td>0</td>\n",
       "      <td>0</td>\n",
       "    </tr>\n",
       "    <tr>\n",
       "      <th>4</th>\n",
       "      <td>0</td>\n",
       "      <td>0</td>\n",
       "      <td>0</td>\n",
       "      <td>0</td>\n",
       "      <td>0</td>\n",
       "      <td>0</td>\n",
       "      <td>0</td>\n",
       "      <td>0</td>\n",
       "      <td>0</td>\n",
       "      <td>0</td>\n",
       "      <td>...</td>\n",
       "      <td>0</td>\n",
       "      <td>0</td>\n",
       "      <td>0</td>\n",
       "      <td>0</td>\n",
       "      <td>0</td>\n",
       "      <td>0</td>\n",
       "      <td>0</td>\n",
       "      <td>0</td>\n",
       "      <td>0</td>\n",
       "      <td>0</td>\n",
       "    </tr>\n",
       "    <tr>\n",
       "      <th>...</th>\n",
       "      <td>...</td>\n",
       "      <td>...</td>\n",
       "      <td>...</td>\n",
       "      <td>...</td>\n",
       "      <td>...</td>\n",
       "      <td>...</td>\n",
       "      <td>...</td>\n",
       "      <td>...</td>\n",
       "      <td>...</td>\n",
       "      <td>...</td>\n",
       "      <td>...</td>\n",
       "      <td>...</td>\n",
       "      <td>...</td>\n",
       "      <td>...</td>\n",
       "      <td>...</td>\n",
       "      <td>...</td>\n",
       "      <td>...</td>\n",
       "      <td>...</td>\n",
       "      <td>...</td>\n",
       "      <td>...</td>\n",
       "      <td>...</td>\n",
       "    </tr>\n",
       "    <tr>\n",
       "      <th>372445</th>\n",
       "      <td>25</td>\n",
       "      <td>0</td>\n",
       "      <td>0</td>\n",
       "      <td>0</td>\n",
       "      <td>0</td>\n",
       "      <td>0</td>\n",
       "      <td>0</td>\n",
       "      <td>0</td>\n",
       "      <td>0</td>\n",
       "      <td>0</td>\n",
       "      <td>...</td>\n",
       "      <td>0</td>\n",
       "      <td>0</td>\n",
       "      <td>0</td>\n",
       "      <td>0</td>\n",
       "      <td>0</td>\n",
       "      <td>0</td>\n",
       "      <td>0</td>\n",
       "      <td>0</td>\n",
       "      <td>0</td>\n",
       "      <td>0</td>\n",
       "    </tr>\n",
       "    <tr>\n",
       "      <th>372446</th>\n",
       "      <td>25</td>\n",
       "      <td>0</td>\n",
       "      <td>0</td>\n",
       "      <td>0</td>\n",
       "      <td>0</td>\n",
       "      <td>0</td>\n",
       "      <td>0</td>\n",
       "      <td>0</td>\n",
       "      <td>0</td>\n",
       "      <td>0</td>\n",
       "      <td>...</td>\n",
       "      <td>0</td>\n",
       "      <td>0</td>\n",
       "      <td>0</td>\n",
       "      <td>0</td>\n",
       "      <td>0</td>\n",
       "      <td>0</td>\n",
       "      <td>0</td>\n",
       "      <td>0</td>\n",
       "      <td>0</td>\n",
       "      <td>0</td>\n",
       "    </tr>\n",
       "    <tr>\n",
       "      <th>372447</th>\n",
       "      <td>25</td>\n",
       "      <td>0</td>\n",
       "      <td>0</td>\n",
       "      <td>0</td>\n",
       "      <td>0</td>\n",
       "      <td>0</td>\n",
       "      <td>0</td>\n",
       "      <td>0</td>\n",
       "      <td>0</td>\n",
       "      <td>0</td>\n",
       "      <td>...</td>\n",
       "      <td>0</td>\n",
       "      <td>0</td>\n",
       "      <td>0</td>\n",
       "      <td>0</td>\n",
       "      <td>0</td>\n",
       "      <td>0</td>\n",
       "      <td>0</td>\n",
       "      <td>0</td>\n",
       "      <td>0</td>\n",
       "      <td>0</td>\n",
       "    </tr>\n",
       "    <tr>\n",
       "      <th>372448</th>\n",
       "      <td>25</td>\n",
       "      <td>0</td>\n",
       "      <td>0</td>\n",
       "      <td>0</td>\n",
       "      <td>0</td>\n",
       "      <td>0</td>\n",
       "      <td>0</td>\n",
       "      <td>0</td>\n",
       "      <td>0</td>\n",
       "      <td>0</td>\n",
       "      <td>...</td>\n",
       "      <td>0</td>\n",
       "      <td>0</td>\n",
       "      <td>0</td>\n",
       "      <td>0</td>\n",
       "      <td>0</td>\n",
       "      <td>0</td>\n",
       "      <td>0</td>\n",
       "      <td>0</td>\n",
       "      <td>0</td>\n",
       "      <td>0</td>\n",
       "    </tr>\n",
       "    <tr>\n",
       "      <th>372449</th>\n",
       "      <td>25</td>\n",
       "      <td>0</td>\n",
       "      <td>0</td>\n",
       "      <td>0</td>\n",
       "      <td>0</td>\n",
       "      <td>0</td>\n",
       "      <td>0</td>\n",
       "      <td>0</td>\n",
       "      <td>0</td>\n",
       "      <td>0</td>\n",
       "      <td>...</td>\n",
       "      <td>0</td>\n",
       "      <td>0</td>\n",
       "      <td>0</td>\n",
       "      <td>0</td>\n",
       "      <td>0</td>\n",
       "      <td>0</td>\n",
       "      <td>0</td>\n",
       "      <td>0</td>\n",
       "      <td>0</td>\n",
       "      <td>0</td>\n",
       "    </tr>\n",
       "  </tbody>\n",
       "</table>\n",
       "<p>372450 rows × 785 columns</p>\n",
       "</div>"
      ],
      "text/plain": [
       "         0  0.1  0.2  0.3  0.4  0.5  0.6  0.7  0.8  0.9  ...  0.639  0.640  \\\n",
       "0        0    0    0    0    0    0    0    0    0    0  ...      0      0   \n",
       "1        0    0    0    0    0    0    0    0    0    0  ...      0      0   \n",
       "2        0    0    0    0    0    0    0    0    0    0  ...      0      0   \n",
       "3        0    0    0    0    0    0    0    0    0    0  ...      0      0   \n",
       "4        0    0    0    0    0    0    0    0    0    0  ...      0      0   \n",
       "...     ..  ...  ...  ...  ...  ...  ...  ...  ...  ...  ...    ...    ...   \n",
       "372445  25    0    0    0    0    0    0    0    0    0  ...      0      0   \n",
       "372446  25    0    0    0    0    0    0    0    0    0  ...      0      0   \n",
       "372447  25    0    0    0    0    0    0    0    0    0  ...      0      0   \n",
       "372448  25    0    0    0    0    0    0    0    0    0  ...      0      0   \n",
       "372449  25    0    0    0    0    0    0    0    0    0  ...      0      0   \n",
       "\n",
       "        0.641  0.642  0.643  0.644  0.645  0.646  0.647  0.648  \n",
       "0           0      0      0      0      0      0      0      0  \n",
       "1           0      0      0      0      0      0      0      0  \n",
       "2           0      0      0      0      0      0      0      0  \n",
       "3           0      0      0      0      0      0      0      0  \n",
       "4           0      0      0      0      0      0      0      0  \n",
       "...       ...    ...    ...    ...    ...    ...    ...    ...  \n",
       "372445      0      0      0      0      0      0      0      0  \n",
       "372446      0      0      0      0      0      0      0      0  \n",
       "372447      0      0      0      0      0      0      0      0  \n",
       "372448      0      0      0      0      0      0      0      0  \n",
       "372449      0      0      0      0      0      0      0      0  \n",
       "\n",
       "[372450 rows x 785 columns]"
      ]
     },
     "execution_count": 10,
     "metadata": {},
     "output_type": "execute_result"
    }
   ],
   "source": [
    "p = pd.DataFrame(data)\n",
    "p"
   ]
  },
  {
   "cell_type": "markdown",
   "id": "6f88979efe4ea6a0",
   "metadata": {},
   "source": [
    "# Separating the columns for x and y in the dataset"
   ]
  },
  {
   "cell_type": "code",
   "execution_count": 11,
   "id": "761ac8eca666832a",
   "metadata": {
    "ExecuteTime": {
     "end_time": "2024-02-28T03:38:01.749127Z",
     "start_time": "2024-02-28T03:38:01.440947Z"
    }
   },
   "outputs": [],
   "source": [
    "X = p.drop('0',axis = 1)\n",
    "Y = p['0']"
   ]
  },
  {
   "cell_type": "markdown",
   "id": "73c2b1e7228178d9",
   "metadata": {},
   "source": [
    "# Changing the shape of the images in a dataset"
   ]
  },
  {
   "cell_type": "code",
   "execution_count": 12,
   "id": "79e9039505390369",
   "metadata": {
    "ExecuteTime": {
     "end_time": "2024-02-28T03:38:03.299659Z",
     "start_time": "2024-02-28T03:38:01.749805Z"
    }
   },
   "outputs": [
    {
     "name": "stdout",
     "output_type": "stream",
     "text": [
      "Train Data Shape: (297960, 28, 28)\n",
      "Test Data Shape: (74490, 28, 28)\n"
     ]
    }
   ],
   "source": [
    "x_train, x_test, y_train, y_test = train_test_split(X,Y, test_size=0.2)\n",
    "x_train = np.reshape(x_train.values,(x_train.shape[0],28,28))\n",
    "x_test = np.reshape(x_test.values,(x_test.shape[0],28,28))\n",
    "\n",
    "print('Train Data Shape:', x_train.shape)\n",
    "print('Test Data Shape:', x_test.shape)"
   ]
  },
  {
   "cell_type": "markdown",
   "id": "71eb5ab632331cb0",
   "metadata": {},
   "source": [
    "# Making a list of letters with their positions"
   ]
  },
  {
   "cell_type": "code",
   "execution_count": 13,
   "id": "14c934f297a72c7a",
   "metadata": {
    "ExecuteTime": {
     "end_time": "2024-02-28T03:38:03.303684Z",
     "start_time": "2024-02-28T03:38:03.300504Z"
    }
   },
   "outputs": [],
   "source": [
    "word_dict = {\n",
    "    0:'A',1:'B',2:'C',3:'D',4:'E',5:'F',6:'G',7:'H',8:'I',9:'J',10:'K',11:'L',12:'M',13:'N',14:'O',15:'P',16:'Q',17:'R',18:'S',19:'T',20:'U',21:'V',22:'W',23:'X', 24:'Y',25:'Z'\n",
    "}"
   ]
  },
  {
   "cell_type": "markdown",
   "id": "7aeff7a4054ed688",
   "metadata": {},
   "source": [
    "# Plot the number of letters in the dataset"
   ]
  },
  {
   "cell_type": "code",
   "execution_count": 14,
   "id": "ff64a3c14827f60e",
   "metadata": {
    "ExecuteTime": {
     "end_time": "2024-02-28T03:38:03.508848Z",
     "start_time": "2024-02-28T03:38:03.305825Z"
    }
   },
   "outputs": [
    {
     "name": "stderr",
     "output_type": "stream",
     "text": [
      "/var/folders/gw/m7333wt957q0gz8nbqnf596h0000gn/T/ipykernel_24437/742214358.py:1: DeprecationWarning: `np.int0` is a deprecated alias for `np.intp`.  (Deprecated NumPy 1.24)\n",
      "  y_integer = np.int0(Y)\n"
     ]
    },
    {
     "data": {
      "image/png": "[encoded data removed]",
      "text/plain": [
       "<Figure size 1500x1500 with 1 Axes>"
      ]
     },
     "metadata": {},
     "output_type": "display_data"
    }
   ],
   "source": [
    "y_integer = np.int0(Y)\n",
    "count = np.zeros(26, dtype = 'int')\n",
    "\n",
    "for i in y_integer:\n",
    "    count[i] += 1\n",
    "    \n",
    "alphabets = []\n",
    "\n",
    "for i in word_dict.values():\n",
    "    alphabets.append(i)\n",
    "    \n",
    "fig, ax = plt.subplots(1, 1, figsize = (15, 15))\n",
    "ax.barh(alphabets, count)\n",
    "\n",
    "plt.xlabel('Number Of Elements', fontsize = 20, fontweight = 'bold', color = 'green')\n",
    "plt.ylabel('Alphabets', fontsize = 30, fontweight = 'bold', color = 'green')\n",
    "plt.grid()\n",
    "plt.show()"
   ]
  },
  {
   "cell_type": "markdown",
   "id": "74c993255c7db6ba",
   "metadata": {},
   "source": [
    "# Shuffling "
   ]
  },
  {
   "cell_type": "code",
   "execution_count": 15,
   "id": "a4333718b32b3a5b",
   "metadata": {
    "ExecuteTime": {
     "end_time": "2024-02-28T03:38:03.981715Z",
     "start_time": "2024-02-28T03:38:03.510866Z"
    }
   },
   "outputs": [
    {
     "data": {
      "image/png": "[encoded data removed]",
      "text/plain": [
       "<Figure size 1500x1500 with 9 Axes>"
      ]
     },
     "metadata": {},
     "output_type": "display_data"
    }
   ],
   "source": [
    "shuff = shuffle(x_train[:100])\n",
    "fig, ax = plt.subplots (3,3,figsize=(15,15))\n",
    "axes = ax.flatten()\n",
    "\n",
    "for i in range (9):\n",
    "    axes[i].imshow(np.reshape(shuff[i], (28, 28)), cmap = 'gray')\n",
    "\n",
    "plt.show()"
   ]
  },
  {
   "cell_type": "markdown",
   "id": "30e8c1c68e529c9a",
   "metadata": {},
   "source": [
    "# Reshaping the images in the training and testing datasets to fit into the Deep Learning Model"
   ]
  },
  {
   "cell_type": "code",
   "execution_count": 16,
   "id": "df021780c4dc195e",
   "metadata": {
    "ExecuteTime": {
     "end_time": "2024-02-28T03:38:03.984788Z",
     "start_time": "2024-02-28T03:38:03.982359Z"
    }
   },
   "outputs": [
    {
     "name": "stdout",
     "output_type": "stream",
     "text": [
      "New shape of train data: (297960, 28, 28, 1)\n",
      "New shape of test data: (74490, 28, 28, 1)\n"
     ]
    }
   ],
   "source": [
    "x_train = x_train.reshape(x_train.shape[0], x_train.shape[1], x_train.shape[2], 1)\n",
    "print(\"New shape of train data:\", x_train.shape)\n",
    "x_test = x_test.reshape(x_test.shape[0], x_test.shape[1], x_test.shape[2], 1)\n",
    "print(\"New shape of test data:\", x_test.shape)"
   ]
  },
  {
   "cell_type": "markdown",
   "id": "81be8c06e5777d3f",
   "metadata": {},
   "source": [
    "**Implementing one-hot encoding on the target labels for classification tasks, turning integer labels into binary vectors, which is required when working with neural networks for multiclass classification tasks**"
   ]
  },
  {
   "cell_type": "code",
   "execution_count": 17,
   "id": "516fb53923c74fc2",
   "metadata": {
    "ExecuteTime": {
     "end_time": "2024-02-28T03:38:03.997701Z",
     "start_time": "2024-02-28T03:38:03.985282Z"
    }
   },
   "outputs": [
    {
     "name": "stdout",
     "output_type": "stream",
     "text": [
      "New shape of train labels: (297960, 26)\n",
      "New shape of test labels: (74490, 26)\n",
      "[[0. 0. 0. 0. 0. 0. 0. 0. 0. 0. 0. 0. 0. 0. 0. 1. 0. 0. 0. 0. 0. 0. 0. 0.\n",
      "  0. 0.]\n",
      " [0. 0. 0. 0. 0. 0. 0. 0. 0. 0. 0. 0. 0. 0. 0. 0. 0. 0. 0. 0. 0. 0. 0. 0.\n",
      "  1. 0.]]\n"
     ]
    }
   ],
   "source": [
    "# convert class vectors to binary class matrices.  One-hot encoding --> default to float32 as dtype of output array isn't specified\n",
    "#  3 => 0 0 0 1 0 0 0 0 0 0 and 1 => 0 1 0 0 0 0 0 0 0 0 \n",
    "y_train = tf.keras.utils.to_categorical(y_train, num_classes = 26)\n",
    "print(\"New shape of train labels:\", y_train.shape)\n",
    "y_test = tf.keras.utils.to_categorical(y_test, num_classes = 26)\n",
    "print(\"New shape of test labels:\", y_test.shape)\n",
    "\n",
    "print(y_train[0:2])   # verify one-hot encoding"
   ]
  },
  {
   "cell_type": "code",
   "execution_count": 18,
   "id": "ded661ed2f7f47aa",
   "metadata": {
    "ExecuteTime": {
     "end_time": "2024-02-28T03:38:04.316013Z",
     "start_time": "2024-02-28T03:38:03.998357Z"
    }
   },
   "outputs": [
    {
     "name": "stdout",
     "output_type": "stream",
     "text": [
      "New shape of train labels: (297960, 26, 26)\n",
      "New shape of test labels: (74490, 26, 26)\n"
     ]
    }
   ],
   "source": [
    "## convert class vectors to binary class matrices.  One-hot encoding --> specified to int\n",
    "\n",
    "# categorical_train = to_categorical(y_train, num_classes = 26, dtype = 'int')\n",
    "# print(\"New shape of train labels:\", categorical_train.shape)\n",
    "# \n",
    "# categorical_test = to_categorical(y_test, num_classes = 26, dtype = 'int')\n",
    "# print(\"New shape of test labels:\", categorical_test.shape)"
   ]
  },
  {
   "cell_type": "markdown",
   "id": "1d2f0f0d491d1c22",
   "metadata": {},
   "source": [
    "# Implementing Deep Learning Model"
   ]
  },
  {
   "cell_type": "code",
   "execution_count": 25,
   "id": "122299f93ac90a87",
   "metadata": {
    "ExecuteTime": {
     "end_time": "2024-02-28T05:00:11.414393Z",
     "start_time": "2024-02-28T05:00:11.376367Z"
    }
   },
   "outputs": [],
   "source": [
    "# Define the model\n",
    "model = Sequential()\n",
    "\n",
    "# Create a CNN to classify the images\n",
    "model.add(Conv2D(filters=32, kernel_size=(3, 3),\n",
    "                  activation='relu',\n",
    "                  input_shape=(28,28,1)))\n",
    "model.add(MaxPool2D(pool_size=(2, 2),strides=2))\n",
    "model.add(Dropout(0.5))\n",
    "\n",
    "model.add(Conv2D(filters=64, kernel_size=(3,3),activation='relu',padding='same'))\n",
    "model.add(MaxPool2D(pool_size=(2, 2),strides=2))\n",
    "model.add(Dropout(0.5))\n",
    "\n",
    "model.add(Flatten())\n",
    "model.add(Dense(128, activation='relu'))\n",
    "model.add(Dense(64, activation='relu'))\n",
    "model.add(Dense(26, activation='softmax'))"
   ]
  },
  {
   "cell_type": "markdown",
   "id": "bed76467a0d726d2",
   "metadata": {},
   "source": [
    "# Compiling the Model"
   ]
  },
  {
   "cell_type": "code",
   "execution_count": 32,
   "id": "a4ae7e09640d435d",
   "metadata": {
    "ExecuteTime": {
     "end_time": "2024-02-28T05:28:02.056582Z",
     "start_time": "2024-02-28T05:16:56.450641Z"
    }
   },
   "outputs": [
    {
     "name": "stdout",
     "output_type": "stream",
     "text": [
      "Epoch 1/10\n",
      "4656/4656 [==============================] - 63s 13ms/step - loss: 0.1624 - accuracy: 0.9528 - val_loss: 0.0873 - val_accuracy: 0.9766\n",
      "Epoch 2/10\n",
      "4656/4656 [==============================] - 61s 13ms/step - loss: 0.1334 - accuracy: 0.9612 - val_loss: 0.0700 - val_accuracy: 0.9814\n",
      "Epoch 3/10\n",
      "4656/4656 [==============================] - 62s 13ms/step - loss: 0.1217 - accuracy: 0.9652 - val_loss: 0.0685 - val_accuracy: 0.9823\n",
      "Epoch 4/10\n",
      "4656/4656 [==============================] - 63s 13ms/step - loss: 0.1154 - accuracy: 0.9671 - val_loss: 0.0652 - val_accuracy: 0.9820\n",
      "Epoch 5/10\n",
      "4656/4656 [==============================] - 64s 14ms/step - loss: 0.1098 - accuracy: 0.9688 - val_loss: 0.0617 - val_accuracy: 0.9842\n",
      "Epoch 6/10\n",
      "4656/4656 [==============================] - 66s 14ms/step - loss: 0.1048 - accuracy: 0.9703 - val_loss: 0.0612 - val_accuracy: 0.9829\n",
      "Epoch 7/10\n",
      "4656/4656 [==============================] - 70s 15ms/step - loss: 0.1025 - accuracy: 0.9712 - val_loss: 0.0593 - val_accuracy: 0.9849\n",
      "Epoch 8/10\n",
      "4656/4656 [==============================] - 71s 15ms/step - loss: 0.1012 - accuracy: 0.9718 - val_loss: 0.0565 - val_accuracy: 0.9848\n",
      "Epoch 9/10\n",
      "4656/4656 [==============================] - 72s 16ms/step - loss: 0.0991 - accuracy: 0.9724 - val_loss: 0.0690 - val_accuracy: 0.9823\n",
      "Epoch 10/10\n",
      "4656/4656 [==============================] - 72s 16ms/step - loss: 0.1006 - accuracy: 0.9726 - val_loss: 0.0566 - val_accuracy: 0.9845\n"
     ]
    }
   ],
   "source": [
    "#   define compile to minimize categorical loss, use some optimizers to optimize, and optimize to maximizing accuracy\n",
    "model.compile(loss=keras.losses.categorical_crossentropy,\n",
    "              optimizer=keras.optimizers.legacy.Adam(),\n",
    "              metrics=['accuracy'])\n",
    "\n",
    "#   Train the model and test/validate the mode with the test data after each cycle (epoch) through the training data\n",
    "#   Return history of loss and accuracy for each epoch\n",
    "hist = model.fit(x_train, y_train,\n",
    "          batch_size=64,\n",
    "          epochs=10,\n",
    "          verbose=1,\n",
    "          validation_data=(x_test, y_test))"
   ]
  },
  {
   "cell_type": "markdown",
   "id": "afe66df34d25e730",
   "metadata": {},
   "source": [
    "# Getting Summary of Model"
   ]
  },
  {
   "cell_type": "code",
   "execution_count": 33,
   "id": "9497f7cef8de412c",
   "metadata": {
    "ExecuteTime": {
     "end_time": "2024-02-28T05:30:12.264013Z",
     "start_time": "2024-02-28T05:30:12.253323Z"
    }
   },
   "outputs": [
    {
     "name": "stdout",
     "output_type": "stream",
     "text": [
      "Model: \"sequential_1\"\n",
      "_________________________________________________________________\n",
      " Layer (type)                Output Shape              Param #   \n",
      "=================================================================\n",
      " conv2d_5 (Conv2D)           (None, 26, 26, 32)        320       \n",
      "                                                                 \n",
      " max_pooling2d_2 (MaxPoolin  (None, 13, 13, 32)        0         \n",
      " g2D)                                                            \n",
      "                                                                 \n",
      " dropout_2 (Dropout)         (None, 13, 13, 32)        0         \n",
      "                                                                 \n",
      " conv2d_6 (Conv2D)           (None, 13, 13, 64)        18496     \n",
      "                                                                 \n",
      " max_pooling2d_3 (MaxPoolin  (None, 6, 6, 64)          0         \n",
      " g2D)                                                            \n",
      "                                                                 \n",
      " dropout_3 (Dropout)         (None, 6, 6, 64)          0         \n",
      "                                                                 \n",
      " flatten_1 (Flatten)         (None, 2304)              0         \n",
      "                                                                 \n",
      " dense_2 (Dense)             (None, 128)               295040    \n",
      "                                                                 \n",
      " dense_3 (Dense)             (None, 64)                8256      \n",
      "                                                                 \n",
      " dense_4 (Dense)             (None, 26)                1690      \n",
      "                                                                 \n",
      "=================================================================\n",
      "Total params: 323802 (1.24 MB)\n",
      "Trainable params: 323802 (1.24 MB)\n",
      "Non-trainable params: 0 (0.00 Byte)\n",
      "_________________________________________________________________\n"
     ]
    }
   ],
   "source": [
    "model.summary()"
   ]
  },
  {
   "cell_type": "markdown",
   "id": "313a7e18608af8be",
   "metadata": {},
   "source": [
    "# Saving the Model Summary"
   ]
  },
  {
   "cell_type": "code",
   "execution_count": 34,
   "id": "5a632006cf7fe8c7",
   "metadata": {
    "ExecuteTime": {
     "end_time": "2024-02-28T05:30:14.409318Z",
     "start_time": "2024-02-28T05:30:14.406968Z"
    }
   },
   "outputs": [],
   "source": [
    "#model.save(r'hand_model_summary.h5')"
   ]
  },
  {
   "cell_type": "markdown",
   "id": "caea08873f1d2359",
   "metadata": {},
   "source": [
    "# Locating the accuracy and losses of the model"
   ]
  },
  {
   "cell_type": "code",
   "execution_count": 35,
   "id": "652be6329483f0e6",
   "metadata": {
    "ExecuteTime": {
     "end_time": "2024-02-28T05:30:20.993769Z",
     "start_time": "2024-02-28T05:30:16.747921Z"
    }
   },
   "outputs": [
    {
     "name": "stdout",
     "output_type": "stream",
     "text": [
      "Test loss: 0.05662133917212486\n",
      "Test accuracy: 0.9845348596572876\n"
     ]
    },
    {
     "data": {
      "image/png": "[encoded data removed]",
      "text/plain": [
       "<Figure size 640x480 with 1 Axes>"
      ]
     },
     "metadata": {},
     "output_type": "display_data"
    }
   ],
   "source": [
    "#   Evaluate the model with the test data to get the scores on \"real\" data.\n",
    "score = model.evaluate(x_test, y_test, verbose=0)\n",
    "print('Test loss:', score[0])\n",
    "print('Test accuracy:', score[1])\n",
    "\n",
    "#   Plot data to see relationships in training and validation data\n",
    "%matplotlib inline\n",
    "\n",
    "# when epoch > 1\n",
    "epoch_list = list(range(1, len(hist.history['accuracy']) + 1))  # values for x axis [1, 2, ..., # of epochs]\n",
    "plt.plot(epoch_list, hist.history['accuracy'], epoch_list, hist.history['val_accuracy'])\n",
    "plt.legend(('Training Accuracy', 'Validation Accuracy'))\n",
    "plt.show()"
   ]
  },
  {
   "cell_type": "code",
   "execution_count": 40,
   "id": "53c560a9cb7c8094",
   "metadata": {
    "ExecuteTime": {
     "end_time": "2024-02-28T05:31:58.329842Z",
     "start_time": "2024-02-28T05:31:58.327126Z"
    }
   },
   "outputs": [
    {
     "name": "stdout",
     "output_type": "stream",
     "text": [
      "The highest validation accuracy is : 0.9849107265472412\n",
      "The highest training accuracy is : 0.9726439714431763\n",
      "The lowest validation loss is : 0.05653438717126846\n",
      "The lowest training loss is : 0.09907343983650208\n"
     ]
    }
   ],
   "source": [
    "print(\"The highest validation accuracy is :\", max(hist.history['val_accuracy']))\n",
    "print(\"The highest training accuracy is :\", max(hist.history['accuracy']))\n",
    "print(\"The lowest validation loss is :\", min(hist.history['val_loss']))\n",
    "print(\"The lowest training loss is :\", min(hist.history['loss']))"
   ]
  },
  {
   "cell_type": "markdown",
   "id": "7cee40d7814fc43b",
   "metadata": {},
   "source": [
    "# Making Predictions on the Test Data"
   ]
  },
  {
   "cell_type": "code",
   "execution_count": 52,
   "id": "d9a0505844416a64",
   "metadata": {
    "ExecuteTime": {
     "end_time": "2024-02-28T05:34:24.901300Z",
     "start_time": "2024-02-28T05:34:24.191794Z"
    }
   },
   "outputs": [
    {
     "data": {
      "image/png": "[encoded data removed]",
      "text/plain": [
       "<Figure size 1200x1500 with 9 Axes>"
      ]
     },
     "metadata": {},
     "output_type": "display_data"
    }
   ],
   "source": [
    "import numpy as np\n",
    "\n",
    "fig, axes = plt.subplots(3, 3, figsize=(12, 15))\n",
    "axes = axes.flatten()\n",
    "\n",
    "for ax in axes:\n",
    "    # Generate a random index\n",
    "    i = np.random.choice(len(x_test))\n",
    "\n",
    "    img = np.reshape(x_test[i], (28, 28))\n",
    "    ax.imshow(img, cmap='Greys')\n",
    "\n",
    "    pred = word_dict[np.argmax(y_test[i])]\n",
    "    ax.set_title(\"Prediction: \" + pred, fontsize=20, fontweight='bold', color='blue')\n",
    "    ax.grid()"
   ]
  },
  {
   "cell_type": "code",
   "execution_count": null,
   "id": "7bd963696010e978",
   "metadata": {},
   "outputs": [],
   "source": []
  }
 ],
 "metadata": {
  "kernelspec": {
   "display_name": "Python 3 (ipykernel)",
   "language": "python",
   "name": "python3"
  },
  "language_info": {
   "codemirror_mode": {
    "name": "ipython",
    "version": 3
   },
   "file_extension": ".py",
   "mimetype": "text/x-python",
   "name": "python",
   "nbconvert_exporter": "python",
   "pygments_lexer": "ipython3",
   "version": "3.11.5"
  }
 },
 "nbformat": 4,
 "nbformat_minor": 5
}
